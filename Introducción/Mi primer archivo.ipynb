{
 "cells": [
  {
   "cell_type": "markdown",
   "metadata": {},
   "source": [
    "# Mi presentación\n",
    "\n",
    "Soy estudiante de la carrera de Ing. Finannciera... tengo 20 años y mis hobbies son...\n",
    "\n",
    "This is [Python](https://www.python.org/) inline link."
   ]
  },
  {
   "cell_type": "markdown",
   "metadata": {},
   "source": [
    "Mi artículo se basa en la página de [wikipedia](https://es.wikipedia.org/wiki/Wikipedia:Portada)"
   ]
  },
  {
   "cell_type": "markdown",
   "metadata": {},
   "source": [
    "*  Item 1\n",
    "*  Item 2\n",
    "*  Item 3\n",
    "    *  Item 3a\n",
    "    *  Item 3b\n",
    "    *  Item 3c"
   ]
  },
  {
   "cell_type": "code",
   "execution_count": null,
   "metadata": {},
   "outputs": [],
   "source": []
  }
 ],
 "metadata": {
  "kernelspec": {
   "display_name": "Python 3",
   "language": "python",
   "name": "python3"
  },
  "language_info": {
   "codemirror_mode": {
    "name": "ipython",
    "version": 3
   },
   "file_extension": ".py",
   "mimetype": "text/x-python",
   "name": "python",
   "nbconvert_exporter": "python",
   "pygments_lexer": "ipython3",
   "version": "3.8.5"
  }
 },
 "nbformat": 4,
 "nbformat_minor": 4
}
