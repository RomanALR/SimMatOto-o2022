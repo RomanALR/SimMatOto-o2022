{
 "cells": [
  {
   "cell_type": "markdown",
   "id": "b24d2328",
   "metadata": {},
   "source": [
    "# Solucion a la actividad de Linprog\n",
    "\n",
    "Nombre: Gaddiel"
   ]
  },
  {
   "cell_type": "markdown",
   "id": "9c8d3bf3",
   "metadata": {},
   "source": [
    "**Actividad.** Mónica hace aretes y cadenitas de joyería. Es tan buena, que todo lo que hace lo vende.\n",
    "\n",
    "Le toma 30 minutos hacer un par de aretes y una hora hacer una cadenita, y como Mónica también es estudiante, sólo dispone de 10 horas a la semana para hacer las joyas. Por otra parte, el material que compra solo le alcanza para hacer 15 unidades (el par de aretes cuenta como unidad) de joyas por semana.\n",
    "\n",
    "La utilidad que le deja la venta de las joyas es $\\$15$ en cada par de aretes y $\\$20$ en cada cadenita.\n",
    "\n",
    "¿Cuántos pares de aretes y cuántas cadenitas debería hacer Mónica para maximizar su utilidad?\n",
    "\n",
    "Formular el problema en la forma explicada y obtener la solución gráfica (puede ser a mano).\n",
    "\n",
    "- Solucion de manera gráfica\n",
    "- Solución con la librería de scipy (linprog)\n",
    "\n",
    "**quince minutos: quien primero lo haga, y me lo mande bien explicado al correo, tiene 2 puntos para el primer examen.**"
   ]
  },
  {
   "cell_type": "markdown",
   "id": "882deafc",
   "metadata": {},
   "source": [
    "### SOLUCION"
   ]
  },
  {
   "cell_type": "code",
   "execution_count": null,
   "id": "a66de408",
   "metadata": {},
   "outputs": [],
   "source": []
  }
 ],
 "metadata": {
  "kernelspec": {
   "display_name": "Python 3",
   "language": "python",
   "name": "python3"
  },
  "language_info": {
   "codemirror_mode": {
    "name": "ipython",
    "version": 3
   },
   "file_extension": ".py",
   "mimetype": "text/x-python",
   "name": "python",
   "nbconvert_exporter": "python",
   "pygments_lexer": "ipython3",
   "version": "3.8.8"
  }
 },
 "nbformat": 4,
 "nbformat_minor": 5
}
